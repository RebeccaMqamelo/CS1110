{
 "cells": [
  {
   "cell_type": "markdown",
   "metadata": {},
   "source": [
    "Before you turn this problem in, make sure everything runs as expected. First, **restart the kernel** (in the menubar, select Kernel$\\rightarrow$Restart) and then **run all cells** (in the menubar, select Cell$\\rightarrow$Run All).\n",
    "\n",
    "Make sure you fill in any place that says `YOUR CODE HERE` or \"YOUR ANSWER HERE\", as well as your name and collaborators below:"
   ]
  },
  {
   "cell_type": "code",
   "execution_count": 1,
   "metadata": {},
   "outputs": [],
   "source": [
    "NAME = \"Rebecca\"\n",
    "COLLABORATORS = \"None\""
   ]
  },
  {
   "cell_type": "markdown",
   "metadata": {},
   "source": [
    "---"
   ]
  },
  {
   "cell_type": "markdown",
   "metadata": {
    "deletable": false,
    "editable": false,
    "nbgrader": {
     "checksum": "2c0811b89151f2ef0495d0a9eabeab22",
     "grade": false,
     "grade_id": "cell-bd90321d310ba2d4",
     "locked": true,
     "schema_version": 1,
     "solution": false
    }
   },
   "source": [
    "# CS110 Pre-class Work 9.1\n",
    "\n",
    "## Part A. Average number of comparisons when searching\n",
    "\n",
    "## Question 1. \n",
    "\n",
    "Complete the following function that computes the depth of a given node in a BST identified by its root:"
   ]
  },
  {
   "cell_type": "code",
   "execution_count": 2,
   "metadata": {},
   "outputs": [],
   "source": [
    "import random"
   ]
  },
  {
   "cell_type": "code",
   "execution_count": 3,
   "metadata": {
    "deletable": false,
    "nbgrader": {
     "checksum": "6040a364ba7372adc7f259a4b0d875fc",
     "grade": false,
     "grade_id": "cell-cd10e9a432673bd9",
     "locked": false,
     "schema_version": 1,
     "solution": true
    }
   },
   "outputs": [],
   "source": [
    "def depth(root, node):\n",
    "    \"\"\"finds the depth of the node in a BST. depth of root is 0.\n",
    "\n",
    "    Input:\n",
    "    - root: a node, the root of the BST\n",
    "    - node: a node to compute the depth of\n",
    "\n",
    "    Output:\n",
    "    - d: int, distance from node to root\"\"\"\n",
    "    if root is None:\n",
    "        return 0\n",
    "    else:\n",
    "        # Find height of nodes above thise one + 1 = node depth\n",
    "        d = max(BST.height(root.left), BST.height(root.right)) + 1\n",
    "        return d"
   ]
  },
  {
   "cell_type": "code",
   "execution_count": 4,
   "metadata": {
    "deletable": false,
    "editable": false,
    "nbgrader": {
     "checksum": "46a630a4c6307c799c44715ec3868d58",
     "grade": true,
     "grade_id": "cell-c57bc5138040968c",
     "locked": true,
     "points": 1,
     "schema_version": 1,
     "solution": false
    }
   },
   "outputs": [],
   "source": [
    "# Please ignore this cell. This cell is for us to implement the tests \n",
    "# to see if your code works properly. "
   ]
  },
  {
   "cell_type": "markdown",
   "metadata": {
    "deletable": false,
    "editable": false,
    "nbgrader": {
     "checksum": "01fa65ccabde3f2f6a8c62aca64dcd53",
     "grade": false,
     "grade_id": "cell-bd8ce3e36c859c2e",
     "locked": true,
     "schema_version": 1,
     "solution": false
    }
   },
   "source": [
    "## Question 2.\n",
    "\n",
    "Complete the following function, making use of `depth`, to calculate the average number of comparisons required to search for a randomly chosen element of a standard BST. For example, the following tree:\n",
    "\n",
    "                            12\n",
    "                              \\\n",
    "                               14\n",
    "\n",
    "will have an average number of comparisons of 1.5. This is because 50% of the time we will be searching for 12 (1 comparison), and 50% of the time we will be searching for 14 (2 comparisons).\n",
    "\n",
    "You can test your function with this test case by constructing the tree using the code from the last session's pre-class work. \n",
    "\n",
    "\n",
    "(*Hint*: the number of comparisons required to search for node a is `depth(root, a) + 1`.) "
   ]
  },
  {
   "cell_type": "code",
   "execution_count": 5,
   "metadata": {
    "deletable": false,
    "nbgrader": {
     "checksum": "322c65779d5bd159c1562fc9118643a7",
     "grade": false,
     "grade_id": "cell-34e9cb302f1dad00",
     "locked": false,
     "schema_version": 1,
     "solution": true
    }
   },
   "outputs": [],
   "source": [
    "def depth_of_cmp(bst, depth, lst):\n",
    "    if bst.l_child is not None:\n",
    "        lst = depth_of_cmp(bst.l_child, depth+1, lst)\n",
    "    if bst.r_child is not None:\n",
    "        lst = depth_of_cmp(bst.r_child, depth + 1, lst)\n",
    "    lst.append(depth)\n",
    "    return lst\n",
    "\n",
    "def avg_cmp(bst):\n",
    "    \"\"\"Finds the average number of comparisons required \n",
    "    to search for a randomly chosen element of a standard BST. \n",
    "    \n",
    "    Input:\n",
    "    - bst: a Node, the root of the BST\n",
    "    \n",
    "    Output:\n",
    "    - n: int, average number of comparisons\"\"\"\n",
    "    \n",
    "    lst = []\n",
    "    depth_of_cmp(bst, 0, lst)\n",
    "    return np.mean(lst)"
   ]
  },
  {
   "cell_type": "code",
   "execution_count": 6,
   "metadata": {
    "deletable": false,
    "editable": false,
    "nbgrader": {
     "checksum": "7c94a3d9e151e1a920e846ff98e118a8",
     "grade": true,
     "grade_id": "cell-dedc229bbb15d811",
     "locked": true,
     "points": 1,
     "schema_version": 1,
     "solution": false
    }
   },
   "outputs": [],
   "source": [
    "# Please ignore this cell. This cell is for us to implement the tests \n",
    "# to see if your code works properly. "
   ]
  },
  {
   "cell_type": "markdown",
   "metadata": {
    "deletable": false,
    "editable": false,
    "nbgrader": {
     "checksum": "219e1c0aea58c5955539210f5c34b000",
     "grade": false,
     "grade_id": "cell-4b7d0c4e86568346",
     "locked": true,
     "schema_version": 1,
     "solution": false
    }
   },
   "source": [
    "## Part B. Depth of randomly-built trees\n",
    "The average number of comparisons for a randomly chosen element within the tree is related to the “average depth” of the tree. Here the average depth of a tree is defined to be the average of the depths of all the nodes in the tree. \n",
    "## Question 1. \n",
    "\n",
    "Complete the following function to find the maximum depth of a node in a given BST. The function must run in $\\mathrm{O}(N)$ time and use $\\mathrm{O}(h)$ space (where $N$ is the number of elements in the BST and $h$ is the height of the tree). Also, note that the maximum depth is equal to the height of the tree.\n"
   ]
  },
  {
   "cell_type": "code",
   "execution_count": 7,
   "metadata": {
    "deletable": false,
    "nbgrader": {
     "checksum": "71f602309416ba9c718f06f4cc466075",
     "grade": false,
     "grade_id": "cell-64aba253c2b1bada",
     "locked": false,
     "schema_version": 1,
     "solution": true
    }
   },
   "outputs": [],
   "source": [
    "def max_depth(bst, depth=0, max_height=0):\n",
    "    \"\"\"Finds the maximum depth of node in a BST.\n",
    "    \n",
    "    Input:\n",
    "    - bst: a Node, the root of the BST\n",
    "    \n",
    "    Output:\n",
    "    - h: int, the maximum depth in a BST\"\"\"\n",
    "    \n",
    "    if bst.l_child is not None:\n",
    "        max_height = max_depth(bst.l_child, depth+1, max_height)\n",
    "    if bst.r_child is not None:\n",
    "        max_height = max_depth(bst.r_child, depth+1, max_height)\n",
    "    max_height = max(depth, max_height)\n",
    "    return max_height"
   ]
  },
  {
   "cell_type": "code",
   "execution_count": 8,
   "metadata": {
    "deletable": false,
    "editable": false,
    "nbgrader": {
     "checksum": "641f559b2bcdfad11577dd6202a0e378",
     "grade": true,
     "grade_id": "cell-82deabcb0ea2e594",
     "locked": true,
     "points": 1,
     "schema_version": 1,
     "solution": false
    }
   },
   "outputs": [],
   "source": [
    "# Please ignore this cell. This cell is for us to implement the tests \n",
    "# to see if your code works properly. "
   ]
  },
  {
   "cell_type": "markdown",
   "metadata": {
    "deletable": false,
    "editable": false,
    "nbgrader": {
     "checksum": "3224988f295d6adc77632f7f4ff5c8e2",
     "grade": false,
     "grade_id": "cell-fd78b979c52b9527",
     "locked": true,
     "schema_version": 1,
     "solution": false
    }
   },
   "source": [
    "## Question 2. \n",
    "\n",
    "Using the `avg_cmp` function, complete the following function to return the average depth of the tree. The average depth is related to the average number of comparisons as `average depth = (average comparisons - 1)`, since the root has depth zero."
   ]
  },
  {
   "cell_type": "code",
   "execution_count": 9,
   "metadata": {
    "deletable": false,
    "nbgrader": {
     "checksum": "90d64051c00f344fc6baaf3ae169c87f",
     "grade": false,
     "grade_id": "cell-347916904e4a8379",
     "locked": false,
     "schema_version": 1,
     "solution": true
    }
   },
   "outputs": [],
   "source": [
    "def avg_depth(bst):\n",
    "    \"\"\"Computes the average depth of a BST\n",
    "    \n",
    "    Input:\n",
    "    - bst: a Node, root of the BST\n",
    "    \n",
    "    Output:\n",
    "    - avg_d: float, average depth of the BST\"\"\"\n",
    "    # YOUR CODE HERE\n",
    "    raise NotImplementedError()"
   ]
  },
  {
   "cell_type": "code",
   "execution_count": 10,
   "metadata": {
    "deletable": false,
    "editable": false,
    "nbgrader": {
     "checksum": "90d43fdd611cd3a53b50585a1e6a6470",
     "grade": true,
     "grade_id": "cell-1bd7535fe6950d5f",
     "locked": true,
     "points": 1,
     "schema_version": 1,
     "solution": false
    }
   },
   "outputs": [
    {
     "ename": "NotImplementedError",
     "evalue": "",
     "output_type": "error",
     "traceback": [
      "\u001b[0;31m---------------------------------------------------------------------------\u001b[0m",
      "\u001b[0;31mNotImplementedError\u001b[0m                       Traceback (most recent call last)",
      "\u001b[0;32m<ipython-input-10-32f6fe96b51d>\u001b[0m in \u001b[0;36m<module>\u001b[0;34m\u001b[0m\n\u001b[1;32m    111\u001b[0m     \u001b[0;32mreturn\u001b[0m \u001b[0mabs\u001b[0m\u001b[0;34m(\u001b[0m\u001b[0ma\u001b[0m\u001b[0;34m-\u001b[0m\u001b[0mb\u001b[0m\u001b[0;34m)\u001b[0m \u001b[0;34m<\u001b[0m \u001b[0;36m1e-5\u001b[0m\u001b[0;34m\u001b[0m\u001b[0;34m\u001b[0m\u001b[0m\n\u001b[1;32m    112\u001b[0m \u001b[0;34m\u001b[0m\u001b[0m\n\u001b[0;32m--> 113\u001b[0;31m \u001b[0;32massert\u001b[0m\u001b[0;34m(\u001b[0m\u001b[0mavg_depth\u001b[0m\u001b[0;34m(\u001b[0m\u001b[0mnodes\u001b[0m\u001b[0;34m[\u001b[0m\u001b[0;36m0\u001b[0m\u001b[0;34m]\u001b[0m\u001b[0;34m)\u001b[0m \u001b[0;34m==\u001b[0m \u001b[0;36m16\u001b[0m\u001b[0;34m/\u001b[0m\u001b[0;36m9\u001b[0m\u001b[0;34m)\u001b[0m\u001b[0;34m\u001b[0m\u001b[0;34m\u001b[0m\u001b[0m\n\u001b[0m\u001b[1;32m    114\u001b[0m \u001b[0;32massert\u001b[0m\u001b[0;34m(\u001b[0m\u001b[0mis_equal\u001b[0m\u001b[0;34m(\u001b[0m\u001b[0mavg_depth\u001b[0m\u001b[0;34m(\u001b[0m\u001b[0mnodes\u001b[0m\u001b[0;34m[\u001b[0m\u001b[0;36m1\u001b[0m\u001b[0;34m]\u001b[0m\u001b[0;34m)\u001b[0m\u001b[0;34m,\u001b[0m\u001b[0;36m1.2\u001b[0m\u001b[0;34m)\u001b[0m\u001b[0;34m)\u001b[0m\u001b[0;34m\u001b[0m\u001b[0;34m\u001b[0m\u001b[0m\n\u001b[1;32m    115\u001b[0m \u001b[0;32massert\u001b[0m\u001b[0;34m(\u001b[0m\u001b[0mis_equal\u001b[0m\u001b[0;34m(\u001b[0m\u001b[0mavg_depth\u001b[0m\u001b[0;34m(\u001b[0m\u001b[0mnodes\u001b[0m\u001b[0;34m[\u001b[0m\u001b[0;36m2\u001b[0m\u001b[0;34m]\u001b[0m\u001b[0;34m)\u001b[0m\u001b[0;34m,\u001b[0m \u001b[0;36m2\u001b[0m\u001b[0;34m/\u001b[0m\u001b[0;36m3\u001b[0m\u001b[0;34m)\u001b[0m\u001b[0;34m)\u001b[0m\u001b[0;34m\u001b[0m\u001b[0;34m\u001b[0m\u001b[0m\n",
      "\u001b[0;32m<ipython-input-9-e7957ff664fa>\u001b[0m in \u001b[0;36mavg_depth\u001b[0;34m(bst)\u001b[0m\n\u001b[1;32m      8\u001b[0m     - avg_d: float, average depth of the BST\"\"\"\n\u001b[1;32m      9\u001b[0m     \u001b[0;31m# YOUR CODE HERE\u001b[0m\u001b[0;34m\u001b[0m\u001b[0;34m\u001b[0m\u001b[0;34m\u001b[0m\u001b[0m\n\u001b[0;32m---> 10\u001b[0;31m     \u001b[0;32mraise\u001b[0m \u001b[0mNotImplementedError\u001b[0m\u001b[0;34m(\u001b[0m\u001b[0;34m)\u001b[0m\u001b[0;34m\u001b[0m\u001b[0;34m\u001b[0m\u001b[0m\n\u001b[0m",
      "\u001b[0;31mNotImplementedError\u001b[0m: "
     ]
    }
   ],
   "source": [
    "class Node:\n",
    "    def __init__(self, val):\n",
    "        self.l_child = None\n",
    "        self.r_child = None\n",
    "        self.parent = None\n",
    "        self.data = val\n",
    "\n",
    "    def insert(self, node):\n",
    "        \"\"\"inserts a node into a *non-empty* tree rooted at the node, returns\n",
    "        the root\"\"\"\n",
    "        if self.data > node.data:\n",
    "            if self.l_child is None:\n",
    "                self.l_child = node\n",
    "                node.parent = self\n",
    "            else:\n",
    "                self.l_child.insert(node)\n",
    "        else:\n",
    "            if self.r_child is None:\n",
    "                self.r_child = node\n",
    "                node.parent = self\n",
    "            else:\n",
    "                self.r_child.insert(node)\n",
    "        return self\n",
    "    \n",
    "    def minimum(self):\n",
    "        node = self\n",
    "        while node.l_child != None:\n",
    "            node = node.l_child\n",
    "        return node\n",
    "\n",
    "    def search_data(self, value):\n",
    "        \"\"\"searches a *non-empty* tree rooted at the node for a node with\n",
    "        data = value, returns the value if found, None otherwise\"\"\"\n",
    "        node = self.search(value)\n",
    "        if node:\n",
    "            return node.data\n",
    "        else:\n",
    "            return node\n",
    "        \n",
    "    def search(self, value):\n",
    "        \"\"\"searches a *non-empty* tree rooted at the node for a node with data = value, \n",
    "        returns the node if found, None otherwise\"\"\"\n",
    "        if value == self.data:\n",
    "            return self\n",
    "        if value < self.data:\n",
    "            if self.l_child:\n",
    "                return self.l_child.search(value)\n",
    "            else:\n",
    "                return None\n",
    "        else:\n",
    "            if self.r_child:\n",
    "                return self.r_child.search(value)\n",
    "            else:\n",
    "                return None\n",
    "    \n",
    "    def delete(self, value):\n",
    "        def transplant(node1, node2):\n",
    "            \"\"\"\n",
    "            replaces the subtree rooted at node1 with the subtree rooted at node2\n",
    "            \"\"\"\n",
    "            nonlocal root\n",
    "            if node1.parent == None:\n",
    "                root = node2\n",
    "            elif node1 == node1.parent.l_child:\n",
    "                node1.parent.l_child = node2\n",
    "            else:\n",
    "                node1.parent.r_child = node2\n",
    "            if node2 != None:\n",
    "                node2.parent = node1.parent\n",
    "\n",
    "        \"\"\"if a node with data = value is present in the tree rooted at Node, deletes that node and returns the root\"\"\"\n",
    "        root = self\n",
    "        node = root.search(value)\n",
    "        if node:\n",
    "            if node.l_child is None:\n",
    "                transplant(node, node.r_child)\n",
    "            elif node.r_child == None:\n",
    "                transplant(node, node.l_child)\n",
    "            else:\n",
    "                y = node.r_child.minimum()\n",
    "                if y.parent != node:\n",
    "                    transplant(y, y.r_child)\n",
    "                    y.r_child = node.r_child\n",
    "                    y.r_child.parent = y\n",
    "                transplant(node, y)\n",
    "                y.l_child = node.l_child\n",
    "                y.l_child.parent = y\n",
    "        return root\n",
    "    \n",
    "    def inorder(self): \n",
    "        \"\"\"returns a list of all data in the tree rooted at root produced using an in order traversal\"\"\"\n",
    "        lst = []\n",
    "        root = self\n",
    "        def sub_inorder(root):\n",
    "            if not root is None:\n",
    "                sub_inorder(root.l_child)\n",
    "                lst.append(root.data)\n",
    "                sub_inorder(root.r_child)\n",
    "        sub_inorder(root)\n",
    "        return lst\n",
    "    \n",
    "bst = None\n",
    "nodes = [Node(15), Node(6), Node(18), Node(3), Node(7), \n",
    "         Node(17), Node(20), Node(2), Node(4)]\n",
    "for node in nodes:\n",
    "    if not bst:\n",
    "        bst = node\n",
    "    else:\n",
    "        bst.insert(node)\n",
    "def is_equal(a,b):\n",
    "    return abs(a-b) < 1e-5\n",
    "\n",
    "assert(avg_depth(nodes[0]) == 16/9)\n",
    "assert(is_equal(avg_depth(nodes[1]),1.2))\n",
    "assert(is_equal(avg_depth(nodes[2]), 2/3))\n",
    "assert(is_equal(avg_depth(nodes[3]), 2/3))\n",
    "assert(avg_depth(nodes[4]) == 0)\n",
    "assert(avg_depth(nodes[5]) == 0)\n",
    "assert(avg_depth(nodes[6]) == 0)\n",
    "assert(avg_depth(nodes[7]) == 0)\n",
    "assert(avg_depth(nodes[8]) == 0)"
   ]
  },
  {
   "cell_type": "markdown",
   "metadata": {
    "deletable": false,
    "editable": false,
    "nbgrader": {
     "checksum": "25274f67359e9c4280895dca8e0589d1",
     "grade": false,
     "grade_id": "cell-6365329a3c57c1b1",
     "locked": true,
     "schema_version": 1,
     "solution": false
    }
   },
   "source": [
    "## Question 3.\n",
    "Now, insert randomly shuffled lists into BSTs, and measure the average depth and the maximum depth. How do these statistics scale as you increase $N$, the number of nodes? Make sure to give a compelling argument that motivates this scaling behaviour (you do not need to provide a technical derivation)."
   ]
  },
  {
   "cell_type": "code",
   "execution_count": null,
   "metadata": {
    "deletable": false,
    "nbgrader": {
     "checksum": "8a281cd793099803988046803bed99ba",
     "grade": true,
     "grade_id": "cell-bad918a333cabe43",
     "locked": false,
     "points": 0,
     "schema_version": 1,
     "solution": true
    }
   },
   "outputs": [],
   "source": [
    "# Test case\n",
    "r = None\n",
    "for i in range(100):\n",
    "    r = insert(r, Node(int(100000*random.random())))\n",
    "print avg_cmp(r)\n",
    "print max_height(r)"
   ]
  },
  {
   "cell_type": "markdown",
   "metadata": {
    "deletable": false,
    "editable": false,
    "nbgrader": {
     "checksum": "dd1dd0c5c45fc94abb6229a38d8e04a2",
     "grade": false,
     "grade_id": "cell-3255b4081c295fa6",
     "locked": true,
     "schema_version": 1,
     "solution": false
    }
   },
   "source": [
    "\n",
    "## Question 4.\n",
    "\n",
    "Produce a plot showing the scaling behavior that you saw of both the average depth and the maximum depth as a function of the length of the shuffled list. For a meaningful figure, be sure to scale out to a list of size 10,000 and average the timings 50 times. (You don’t have to sample each value from 1 to 10,000!). Is this plot in agreement with the theoretical result you obtained in the previous question? Explain. \n"
   ]
  },
  {
   "cell_type": "code",
   "execution_count": null,
   "metadata": {
    "deletable": false,
    "nbgrader": {
     "checksum": "a870cffbb739ec466993697791c20248",
     "grade": true,
     "grade_id": "cell-3034eb71070a6734",
     "locked": false,
     "points": 0,
     "schema_version": 1,
     "solution": true
    }
   },
   "outputs": [],
   "source": [
    "# Plot\n",
    "lst_avg_cmp = []\n",
    "lst_max_height = []\n",
    "for i in range(500, 1001, 500):\n",
    "    lst_ith_avg_cmp = []\n",
    "    lst_ith_max_height = []\n",
    "    for j in range(50):\n",
    "        r = None\n",
    "        for i in range(i):\n",
    "            r = insert(r, Node(int(100000*random.random())))\n",
    "        lst_ith_avg_cmp.append(avg_cmp(r))\n",
    "        lst_ith_max_height.append(max_height(r))\n",
    "    lst_avg_cmp.append(np.mean(lst_ith_avg_cmp))\n",
    "    lst_max_height.append(np.mean(lst_ith_max_height))\n",
    "\n",
    "plt.subplot(223)\n",
    "plt.plot([x for x in range(500, 1001, 500)], lst_avg_cmp, label=\"average depth\")\n",
    "plt.plot([x for x in range(500, 1001, 500)], lst_max_height, label=\"maximum depth\")\n",
    "plt.xlabel(\"length\")\n",
    "plt.ylabel(\"depth\")\n",
    "plt.legend(bbox_to_anchor=(1.05, 1), loc=2, borderaxespad=0.)\n",
    "plt.show()"
   ]
  }
 ],
 "metadata": {
  "kernelspec": {
   "display_name": "Python 3",
   "language": "python",
   "name": "python3"
  },
  "language_info": {
   "codemirror_mode": {
    "name": "ipython",
    "version": 3
   },
   "file_extension": ".py",
   "mimetype": "text/x-python",
   "name": "python",
   "nbconvert_exporter": "python",
   "pygments_lexer": "ipython3",
   "version": "3.7.4"
  }
 },
 "nbformat": 4,
 "nbformat_minor": 2
}
