{
 "cells": [
  {
   "cell_type": "markdown",
   "metadata": {},
   "source": [
    "Before you turn this problem in, make sure everything runs as expected. First, **restart the kernel** (in the menubar, select Kernel$\\rightarrow$Restart) and then **run all cells** (in the menubar, select Cell$\\rightarrow$Run All).\n",
    "\n",
    "Make sure you fill in any place that says `YOUR CODE HERE` or \"YOUR ANSWER HERE\", as well as your name and collaborators below:"
   ]
  },
  {
   "cell_type": "code",
   "execution_count": 1,
   "metadata": {},
   "outputs": [],
   "source": [
    "NAME = \"Rebecca\"\n",
    "COLLABORATORS = \"None\""
   ]
  },
  {
   "cell_type": "markdown",
   "metadata": {},
   "source": [
    "---"
   ]
  },
  {
   "cell_type": "markdown",
   "metadata": {
    "deletable": false,
    "editable": false,
    "nbgrader": {
     "checksum": "b829d01fa88366d60630dae1299fa764",
     "grade": false,
     "grade_id": "cell-d94cea4a211410ce",
     "locked": true,
     "schema_version": 1,
     "solution": false
    }
   },
   "source": [
    "# CS110 Pre-class Work 7.1\n",
    "\n",
    "## Part A. Median Heap (watch this [video explanation](https://www.youtube.com/watch?v=756_8C9YBZQ&list=PLF_a-qBXTGFektoI6JUOTRL36JlvD04BR&index=5&t=0s) or read this [description](https://stackoverflow.com/a/15319593/7946759))\n",
    "\n",
    "Throughout this pre-class work, please use the following definition of median: the median of a list of numbers is the one in the middle of the list when the list is ordered. When such the middle element can’t be determined (i.e., in a list of even length), the average of the two middle elements is the median. For example, 5 is the median of [-1,2,4,5,8,10,12], and (5+7)/2=6 is the median of [1,2,3,5,7,8,10,11].\n",
    "\n",
    "Using the idea from Lesson 3.2, we can use a pair of heaps to create a data structure which allows fast access to the median. Use the heapq module in python to create both a max-heap and a min-heap. Note that by default, the heapq module in python only creates min-heaps, but if we multiply elements by -1 when we store them, then we can also create max-heaps.\n",
    "\n",
    "\n",
    "## Question 1.\n",
    "Write a function `add_to_median_heap(minh, maxh, elem)`. It must accept a min heap, a max heap, and an element to add.\n"
   ]
  },
  {
   "cell_type": "code",
   "execution_count": 2,
   "metadata": {},
   "outputs": [
    {
     "name": "stdout",
     "output_type": "stream",
     "text": [
      "List a: [1, 2, 3, 6, 7, 89, 2, 3]\n",
      "List b: [-1, -2, -3, -6, -7, -89, -2, -3]\n",
      "List a as a heap: [1, 2, 2, 3, 7, 89, 3, 6]\n",
      "Pop the root of a: [2, 2, 3, 3, 7, 89, 6]\n",
      "Push a new element onto a: [2, 2, 3, 3, 7, 89, 6, 100]\n",
      "List b as a heap: [-89, -7, -3, -6, -2, -1, -2, -3]\n",
      "Pop the root of b: [-7, -6, -3, -3, -2, -1, -2]\n",
      "Push a new element onto b: [-7, -6, -3, -3, -2, -1, -2, 100]\n"
     ]
    }
   ],
   "source": [
    "import heapq\n",
    "import random\n",
    "\n",
    "# Test array to check if I understand how heapq.heapify() works:\n",
    "a = [1,2,3,6,7,89,2,3]\n",
    "print(\"List a:\", a)\n",
    "b = [i * -1 for i in a] # List comprehension: trying to achieve the same thing as maxheapify, but unsure whether it's sorted...\n",
    "print(\"List b:\", b)\n",
    "\n",
    "# NB: Do not rename the variable because heapify() works on the list in-place and will return NoneType\n",
    "heapq.heapify(a)\n",
    "print(\"List a as a heap:\", a)\n",
    "heapq.heappop(a)\n",
    "print(\"Pop the root of a:\", a)\n",
    "heapq.heappush(a, 100)\n",
    "print(\"Push a new element onto a:\", a)\n",
    "\n",
    "heapq.heapify(b)\n",
    "print(\"List b as a heap:\", b)\n",
    "heapq.heappop(b)\n",
    "print(\"Pop the root of b:\", b)\n",
    "heapq.heappush(b, 100)\n",
    "print(\"Push a new element onto b:\", b)"
   ]
  },
  {
   "cell_type": "code",
   "execution_count": 3,
   "metadata": {
    "deletable": false,
    "nbgrader": {
     "checksum": "3f8e0bb0de793ce786eba2f6715d69b3",
     "grade": false,
     "grade_id": "cell-50cb08de70712ee7",
     "locked": false,
     "schema_version": 1,
     "solution": true
    }
   },
   "outputs": [],
   "source": [
    "# minh = upper side of the median\n",
    "# maxh = lower side of the median\n",
    "\n",
    "def add_to_median_heap(minh, maxh, elem):\n",
    "    # Rememebr, the difference in length between the two heaps can never be greater than 1...\n",
    "    if len(maxh) == 0:\n",
    "        maxh.append(elem)\n",
    "    # If maxh is longer:\n",
    "    elif len(maxh) - len(minh) == 1:\n",
    "        minh.append(elem)\n",
    "        heapq.heapify(minh)\n",
    "    # if minh is longer:\n",
    "    elif len(minh) - len(maxh) == 1:\n",
    "        maxh.append(elem)\n",
    "        heapq._heapify_max(maxh)\n",
    "    else:\n",
    "        if elem <= maxh[0]:\n",
    "            minh.append(elem)\n",
    "            heapq.heapify(minh)\n",
    "        else:\n",
    "            maxh.append(elem)\n",
    "            heapq._heapify_max(maxh)\n",
    "    return(minh, maxh)"
   ]
  },
  {
   "cell_type": "markdown",
   "metadata": {
    "deletable": false,
    "editable": false,
    "nbgrader": {
     "checksum": "47ae2ae64e7e5a094e32b8e29577ebd2",
     "grade": false,
     "grade_id": "cell-b62f7899e36af96f",
     "locked": true,
     "schema_version": 1,
     "solution": false
    }
   },
   "source": [
    "## Question 2\n",
    "Write a function `median(minh, maxh)`. It must return the median element.\n"
   ]
  },
  {
   "cell_type": "code",
   "execution_count": 4,
   "metadata": {
    "deletable": false,
    "nbgrader": {
     "checksum": "4fdb08f74f611846be80db8164227117",
     "grade": false,
     "grade_id": "cell-43ce866dd1dc2d5b",
     "locked": false,
     "schema_version": 1,
     "solution": true
    }
   },
   "outputs": [],
   "source": [
    "def median(minh, maxh):\n",
    "    # Whichever heap has more elements must have the median in its root:\n",
    "    if len(minh) > len(maxh):\n",
    "        median = minh[0]\n",
    "    elif len(maxh) > len(minh):\n",
    "        median = maxh[0]\n",
    "    else:\n",
    "        median = (maxh[0] + minh[0])//2\n",
    "    return median"
   ]
  },
  {
   "cell_type": "code",
   "execution_count": 5,
   "metadata": {
    "deletable": false,
    "editable": false,
    "nbgrader": {
     "checksum": "9f79f245efea8c7b7d7c444af36ad997",
     "grade": true,
     "grade_id": "cell-673faa69bf330eda",
     "locked": true,
     "points": 0,
     "schema_version": 1,
     "solution": false
    }
   },
   "outputs": [],
   "source": [
    "# Please ignore this cell. This cell is for us to implement the tests \n",
    "# to see if your code works properly. "
   ]
  },
  {
   "cell_type": "markdown",
   "metadata": {
    "deletable": false,
    "editable": false,
    "nbgrader": {
     "checksum": "ea112ad1eac7cf41487236cf22381071",
     "grade": false,
     "grade_id": "cell-ec86b3a3c5adaedf",
     "locked": true,
     "schema_version": 1,
     "solution": false
    }
   },
   "source": [
    "## Question 3.\n",
    "\n",
    "Uncomment and run the testing code given below to test your functions. It should print out numbers ranging from 1 to 50, in that order."
   ]
  },
  {
   "cell_type": "code",
   "execution_count": 6,
   "metadata": {},
   "outputs": [
    {
     "name": "stdout",
     "output_type": "stream",
     "text": [
      "1\n",
      "2\n",
      "5\n",
      "4\n",
      "9\n",
      "6\n",
      "13\n",
      "8\n",
      "17\n",
      "10\n",
      "21\n",
      "12\n",
      "25\n",
      "14\n",
      "29\n",
      "16\n",
      "33\n",
      "18\n",
      "37\n",
      "20\n",
      "41\n",
      "22\n",
      "45\n",
      "24\n",
      "49\n",
      "26\n",
      "53\n",
      "28\n",
      "57\n",
      "30\n",
      "61\n",
      "32\n",
      "65\n",
      "34\n",
      "69\n",
      "36\n",
      "73\n",
      "38\n",
      "77\n",
      "40\n",
      "81\n",
      "42\n",
      "85\n",
      "44\n",
      "89\n",
      "46\n",
      "93\n",
      "48\n",
      "97\n",
      "50\n"
     ]
    }
   ],
   "source": [
    "# Clearly, something is wrong in my code:\n",
    "\n",
    "minh = []\n",
    "maxh = []\n",
    "for a in range(1,100,2):\n",
    "    add_to_median_heap(minh, maxh, a)\n",
    "    print(median(minh, maxh))  "
   ]
  },
  {
   "cell_type": "markdown",
   "metadata": {
    "deletable": false,
    "editable": false,
    "nbgrader": {
     "checksum": "be3a94b3063c99a265c7b868e45a5f69",
     "grade": false,
     "grade_id": "cell-11d4510a48c38394",
     "locked": true,
     "schema_version": 1,
     "solution": false
    }
   },
   "source": [
    "## Question 4.\n",
    "What’s the worst case complexity to build a median heap using `add_to_median_heap`?"
   ]
  },
  {
   "cell_type": "markdown",
   "metadata": {
    "deletable": false,
    "nbgrader": {
     "checksum": "4ddd5b5c6be74e7306bd08ee76a1b858",
     "grade": true,
     "grade_id": "cell-c8e33ebdc8aaf328",
     "locked": false,
     "points": 0,
     "schema_version": 1,
     "solution": true
    }
   },
   "source": [
    "O(n)"
   ]
  },
  {
   "cell_type": "markdown",
   "metadata": {
    "deletable": false,
    "editable": false,
    "nbgrader": {
     "checksum": "8a1276ebbad9b1292badcb9090c8a910",
     "grade": false,
     "grade_id": "cell-dada08b7f913c96f",
     "locked": true,
     "schema_version": 1,
     "solution": false
    }
   },
   "source": [
    "## Question 5.\n",
    "What’s the worst case complexity of `median`?"
   ]
  },
  {
   "cell_type": "markdown",
   "metadata": {
    "deletable": false,
    "nbgrader": {
     "checksum": "7d67e5e84a28b798ba456d72603533f0",
     "grade": true,
     "grade_id": "cell-c061920faa337890",
     "locked": false,
     "points": 0,
     "schema_version": 1,
     "solution": true
    }
   },
   "source": [
    "O(1) because we are only going through a series of conditions and accessing the first element in the list when one of these conditions is satisfied. The length of the lists will not affect this."
   ]
  },
  {
   "cell_type": "markdown",
   "metadata": {
    "deletable": false,
    "editable": false,
    "nbgrader": {
     "checksum": "73694bd23377143032d5224818a389b7",
     "grade": false,
     "grade_id": "cell-fcf89277dcd46cbe",
     "locked": true,
     "schema_version": 1,
     "solution": false
    }
   },
   "source": [
    "## Question 6.\n",
    "\n",
    "How does this way of finding the median compare with the vanilla way of sorting the list and pick the middle element? Use arguments based on efficiency or clearity of the respective algorithms."
   ]
  },
  {
   "cell_type": "markdown",
   "metadata": {
    "deletable": false,
    "nbgrader": {
     "checksum": "733fe35313ebf5888c622423bb7462b4",
     "grade": true,
     "grade_id": "cell-1f31afecda9730a7",
     "locked": false,
     "points": 0,
     "schema_version": 1,
     "solution": true
    }
   },
   "source": [
    "I'm not quite sure what \"vanilla\" is referring to here, but I'll assume it applies to some variation of Quicksort. \n",
    "\n",
    "Using heaps is arguably more efficient for larger sizes of n. The most basic approach of first sorting the list via a pivot and then finding the middle element/s has a recurrence relationship of O(n log n) + O(1) [where the constant is for finding the median], therefore expected time complexity O(n log n) and a worst case time complexity of O(n^2). Assuming we are not dealing with randomized pivots, we can isolate our analysis to only the average case O(n log n) – because we know the worst case usually only occures when the pivot is the first or last element in the list, leaving virtually the entire list - 1 to be sorted in the same way again, hence resulting in n^2 time.\n",
    "\n",
    "Using heaps is more efficient because you do not need to recursively sort the list, as long as the parent in minh is smaller and all its children and the parent in maxh is larger than all its children. This allows us to pop a single element a time to find the median."
   ]
  },
  {
   "cell_type": "markdown",
   "metadata": {
    "deletable": false,
    "editable": false,
    "nbgrader": {
     "checksum": "d4869e0b17f0248df4c3ae91668257e8",
     "grade": false,
     "grade_id": "cell-695c23986b831032",
     "locked": true,
     "schema_version": 1,
     "solution": false
    }
   },
   "source": [
    "## [Optional] Question 7.\n",
    "\n",
    "Is it possible to extend this idea to any percentile? If it is, then write code to do so. If it’s not possible, prove why it is not possible."
   ]
  },
  {
   "cell_type": "code",
   "execution_count": 7,
   "metadata": {
    "deletable": false,
    "nbgrader": {
     "checksum": "c293e85a4cf43662dc635c9e0f511be4",
     "grade": true,
     "grade_id": "cell-4d0c197e6d484338",
     "locked": false,
     "points": 0,
     "schema_version": 1,
     "solution": true
    }
   },
   "outputs": [
    {
     "ename": "NotImplementedError",
     "evalue": "",
     "output_type": "error",
     "traceback": [
      "\u001b[0;31m---------------------------------------------------------------------------\u001b[0m",
      "\u001b[0;31mNotImplementedError\u001b[0m                       Traceback (most recent call last)",
      "\u001b[0;32m<ipython-input-7-15b94d1fa268>\u001b[0m in \u001b[0;36m<module>\u001b[0;34m\u001b[0m\n\u001b[1;32m      1\u001b[0m \u001b[0;31m# YOUR CODE HERE\u001b[0m\u001b[0;34m\u001b[0m\u001b[0;34m\u001b[0m\u001b[0;34m\u001b[0m\u001b[0m\n\u001b[0;32m----> 2\u001b[0;31m \u001b[0;32mraise\u001b[0m \u001b[0mNotImplementedError\u001b[0m\u001b[0;34m(\u001b[0m\u001b[0;34m)\u001b[0m\u001b[0;34m\u001b[0m\u001b[0;34m\u001b[0m\u001b[0m\n\u001b[0m",
      "\u001b[0;31mNotImplementedError\u001b[0m: "
     ]
    }
   ],
   "source": [
    "# YOUR CODE HERE\n",
    "raise NotImplementedError()"
   ]
  },
  {
   "cell_type": "markdown",
   "metadata": {
    "deletable": false,
    "editable": false,
    "nbgrader": {
     "checksum": "bd7ff85760b2e8303c3b4482b6ca44b2",
     "grade": false,
     "grade_id": "cell-3cba7ecc0de11f1b",
     "locked": true,
     "schema_version": 1,
     "solution": false
    }
   },
   "source": [
    "## Part B. Quickselect\n",
    "\n",
    "Quicksort can be modified to find the $k$-th smallest element in an unordered list. This is known as quickselect. It does this by choosing a partition (as in quicksort). Once the list has been partitioned then we know how many elements lie to the left and to the right of the partition. This allows us to recursively call quickselect on the correct sublist.\n",
    "\n",
    "## Question 1.\n",
    "\n",
    "Write a function `qselect(lst, k)`, which takes both a list and an index $k$. The function must then return the $k$-th smallest item in the list.\n"
   ]
  },
  {
   "cell_type": "code",
   "execution_count": null,
   "metadata": {},
   "outputs": [],
   "source": [
    "# ATTEMPT 1:\n",
    "\n",
    "def qselect(lst, k): \n",
    "    pivot = [lst.pop()] # pops in-place # giving me problems in the test because it is \"popping from an empty list\"\n",
    "    larger = [] # elements that are larger than the pivot value\n",
    "    smaller = [] # elements that are smaller than the pivot value\n",
    "    for num in lst:\n",
    "        if num > pivot[0]:\n",
    "            larger.append(num)\n",
    "        elif num == pivot[0]:\n",
    "            pivot.append(num)\n",
    "        else:\n",
    "            smaller.append(num)\n",
    "    \n",
    "    if len(smaller) < k <= len(smaller)+len(pivot):\n",
    "        return pivot[0] # this is the kth smallest element\n",
    "    elif len(smaller) >= k: # the pivot can't be the kth smallest element\n",
    "        return qselect(smaller, k)\n",
    "    else:\n",
    "        return qselect(larger, k-len(smaller)-len(pivot))"
   ]
  },
  {
   "cell_type": "code",
   "execution_count": null,
   "metadata": {
    "deletable": false,
    "nbgrader": {
     "checksum": "3714ebe85f9dbc77eb3bb3c106a009ea",
     "grade": false,
     "grade_id": "cell-fb9c2bc9d5b4bc92",
     "locked": false,
     "schema_version": 1,
     "solution": true
    }
   },
   "outputs": [],
   "source": [
    "## ATTEMPT 2\n",
    "\n",
    "def partition(A, start, end):\n",
    "    pivot = end\n",
    "    i = start-1\n",
    "    for j in range(start, end):\n",
    "        if A[j] <= A[pivot]:\n",
    "            i += 1 # move on to next index\n",
    "            A[i], A[j] = A[j], A[i] # swap the element yo just analyzed (j) with the next one\n",
    "    A[i+1], A[pivot] = A[pivot], A[i+1] # new pivot is the element immediately after the one that was smaller than the first pivot\n",
    "    return (i+1)\n",
    "\n",
    "def qselect_2(A,start,end,k):\n",
    "    if start >= end:\n",
    "        return A[end]\n",
    "    else:\n",
    "        p = partition(A,start,end)\n",
    "        print(A)\n",
    "        if p == k-1:\n",
    "            return A[p]\n",
    "            print(A[p])\n",
    "        elif p < k-1:\n",
    "            i = p - 1\n",
    "            print(A[i+2:end])\n",
    "            qselect_2(A,i+2,end,k)          \n",
    "        elif p > k-1:\n",
    "            i = p - 1\n",
    "            print(A[start:i])\n",
    "            qselect_2(A,start,i,k)\n",
    "\n",
    "import random\n",
    "random.seed(123)\n",
    "lst1 = list(range(100))\n",
    "random.shuffle(lst1)\n",
    "lst2 = []\n",
    "for a in range(100):\n",
    "    lst2.append(qselect_2(lst1, 0, len(lst1)-1, a))\n",
    "assert(lst2 == list(range(100)))"
   ]
  },
  {
   "cell_type": "code",
   "execution_count": null,
   "metadata": {
    "deletable": false,
    "editable": false,
    "nbgrader": {
     "checksum": "5ee41421528107f7ae195a7197a5d6d9",
     "grade": true,
     "grade_id": "cell-85a25ed6a1f62a66",
     "locked": true,
     "points": 0,
     "schema_version": 1,
     "solution": false
    }
   },
   "outputs": [],
   "source": [
    "import random\n",
    "random.seed(123) # introducing a seed for reproducibility purposes\n",
    "lst1 = list(range(100))\n",
    "random.shuffle(lst1)\n",
    "lst2 = []\n",
    "for a in range(100):\n",
    "    lst2.append(qselect(lst1, a))\n",
    "assert(lst2 == list(range(100)))"
   ]
  },
  {
   "cell_type": "code",
   "execution_count": null,
   "metadata": {},
   "outputs": [],
   "source": [
    "# ATTEMPT 3 with random pivot\n",
    "\n",
    "def select(lst, l, r, index):\n",
    "\n",
    "    # base case\n",
    "    if r == l:\n",
    "        return lst[l]\n",
    "\n",
    "    # choose random pivot\n",
    "    pivot_index = random.randint(l, r)\n",
    "\n",
    "    # move pivot to beginning of list\n",
    "    lst[l], lst[pivot_index] = lst[pivot_index], lst[l]\n",
    "\n",
    "    # partition\n",
    "    i = l\n",
    "    for j in xrange(l+1, r+1):\n",
    "        if lst[j] < lst[l]:\n",
    "            i += 1\n",
    "            lst[i], lst[j] = lst[j], lst[i]\n",
    "\n",
    "    # move pivot to correct location\n",
    "    lst[i], lst[l] = lst[l], lst[i]\n",
    "\n",
    "    # recursively partition one side only\n",
    "    if index == i:\n",
    "        return lst[i]\n",
    "    elif index < i:\n",
    "        return select(lst, l, i-1, index)\n",
    "    else:\n",
    "        return select(lst, i+1, r, index)\n",
    "\n",
    "    if items is None or len(items) < 1:\n",
    "        return None\n",
    "\n",
    "    if item_index < 0 or item_index > len(items) - 1:\n",
    "        raise IndexError()\n",
    "\n",
    "    return select(items, 0, len(items) - 1, item_index)"
   ]
  },
  {
   "cell_type": "markdown",
   "metadata": {
    "deletable": false,
    "editable": false,
    "nbgrader": {
     "checksum": "54fddc25ea0529f44aa6653b18ff7745",
     "grade": false,
     "grade_id": "cell-8013044acd03642a",
     "locked": true,
     "schema_version": 1,
     "solution": false
    }
   },
   "source": [
    "## Question 2.\n",
    "Uncomment and run the testing code given below to test your function. It should print out integers from 0 to 99.\n"
   ]
  },
  {
   "cell_type": "code",
   "execution_count": null,
   "metadata": {},
   "outputs": [],
   "source": [
    "import random\n",
    "random.seed(123) # introducing a seed for reproducibility purposes\n",
    "lst = list(range(100))\n",
    "random.shuffle(lst)\n",
    "for a in range(100):\n",
    "    print(qselect(lst, a))"
   ]
  },
  {
   "cell_type": "markdown",
   "metadata": {
    "deletable": false,
    "editable": false,
    "nbgrader": {
     "checksum": "3fede812466807c2a250ab3c6427f75c",
     "grade": false,
     "grade_id": "cell-e7a965de7bb56aa3",
     "locked": true,
     "schema_version": 1,
     "solution": false
    }
   },
   "source": [
    "## Question 3.\n",
    "\n",
    "Write down the recurrence relation for your code."
   ]
  },
  {
   "cell_type": "markdown",
   "metadata": {
    "deletable": false,
    "nbgrader": {
     "checksum": "6fb3d2481f5df1b96c902e5446844f87",
     "grade": true,
     "grade_id": "cell-24144607b3ffade3",
     "locked": false,
     "points": 0,
     "schema_version": 1,
     "solution": true
    }
   },
   "source": [
    "For Attempt #1:\n",
    "Define pivot array = Big_theta(1)\n",
    "For num in nlist = T(n)\n",
    "\n",
    "If statements:\n",
    "simple case = Big_theta(1)\n",
    "\n",
    "Case 2 call on recurrence algorithm: T(n)\n",
    "\n",
    "Case 3 call on recurrence algorithm: T(n)\n",
    "\n",
    "Best case: Big_theta(1) + Big_theta(1) = Big_theta(1)\n",
    "\n",
    "Worst case: T(n^2) + Big_theta(1)"
   ]
  },
  {
   "cell_type": "markdown",
   "metadata": {
    "deletable": false,
    "editable": false,
    "nbgrader": {
     "checksum": "311ee23a32dbc3ba43d3bba0d433871b",
     "grade": false,
     "grade_id": "cell-fd740516f4259f3c",
     "locked": true,
     "schema_version": 1,
     "solution": false
    }
   },
   "source": [
    "## Question 4.\n",
    "\n",
    "Solve the recurrence relation for quickselect in the best case.\n"
   ]
  },
  {
   "cell_type": "markdown",
   "metadata": {
    "deletable": false,
    "nbgrader": {
     "checksum": "78416da569a0269f78967b11d7b93332",
     "grade": true,
     "grade_id": "cell-c125f4742933e820",
     "locked": false,
     "points": 0,
     "schema_version": 1,
     "solution": true
    }
   },
   "source": [
    "O(n) because the for loop goes through every element in the list regardless of the size of n.\n",
    "len(smaller) < k <= len(smaller)+len(pivot) then we do not need to call on quickselect again, so the complexity is in linear time."
   ]
  },
  {
   "cell_type": "markdown",
   "metadata": {
    "deletable": false,
    "editable": false,
    "nbgrader": {
     "checksum": "7cc9c5e0531e8ece71be2ff60ee65995",
     "grade": false,
     "grade_id": "cell-e281cecc190fd662",
     "locked": true,
     "schema_version": 1,
     "solution": false
    }
   },
   "source": [
    "## Question 5.\n",
    "\n",
    "Solve the recurrence relation for quickselect in the worst case."
   ]
  },
  {
   "cell_type": "markdown",
   "metadata": {
    "deletable": false,
    "nbgrader": {
     "checksum": "f4cceeaea59e48c3fabdb8d19e302db5",
     "grade": true,
     "grade_id": "cell-852c3a71d8c2d7c1",
     "locked": false,
     "points": 0,
     "schema_version": 1,
     "solution": true
    }
   },
   "source": [
    "O(n^2)\n",
    "This accounts for the first for loop where you go through the entire list and one of the elif/else statement where you call qselect again."
   ]
  },
  {
   "cell_type": "code",
   "execution_count": null,
   "metadata": {},
   "outputs": [],
   "source": []
  }
 ],
 "metadata": {
  "kernelspec": {
   "display_name": "Python 3",
   "language": "python",
   "name": "python3"
  },
  "language_info": {
   "codemirror_mode": {
    "name": "ipython",
    "version": 3
   },
   "file_extension": ".py",
   "mimetype": "text/x-python",
   "name": "python",
   "nbconvert_exporter": "python",
   "pygments_lexer": "ipython3",
   "version": "3.7.4"
  }
 },
 "nbformat": 4,
 "nbformat_minor": 2
}
