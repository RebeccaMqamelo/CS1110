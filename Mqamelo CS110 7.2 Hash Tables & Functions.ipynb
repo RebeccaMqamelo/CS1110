{
 "cells": [
  {
   "cell_type": "markdown",
   "metadata": {},
   "source": [
    "Before you turn this problem in, make sure everything runs as expected. First, **restart the kernel** (in the menubar, select Kernel$\\rightarrow$Restart) and then **run all cells** (in the menubar, select Cell$\\rightarrow$Run All).\n",
    "\n",
    "Make sure you fill in any place that says `YOUR CODE HERE` or \"YOUR ANSWER HERE\", as well as your name and collaborators below:"
   ]
  },
  {
   "cell_type": "code",
   "execution_count": 1,
   "metadata": {},
   "outputs": [],
   "source": [
    "NAME = \"Rebecca\"\n",
    "COLLABORATORS = \"None\""
   ]
  },
  {
   "cell_type": "markdown",
   "metadata": {},
   "source": [
    "---"
   ]
  },
  {
   "cell_type": "markdown",
   "metadata": {
    "deletable": false,
    "editable": false,
    "nbgrader": {
     "checksum": "2843e94073cad72d7107eb55b3f5d153",
     "grade": false,
     "grade_id": "cell-5b237cc13279b029",
     "locked": true,
     "schema_version": 1,
     "solution": false
    }
   },
   "source": [
    "# CS110 Pre-class Work 7.2\n",
    "\n",
    "## Part A. Direct Address Tables\n",
    "As the first step in setting up a crossword solving algorithm you need to create 2 direct address tables, one to store all the “up” answers-whether correct or not-and one to store all the “across” answers. Write python code to create a direct address table that allows you to:\n",
    "\n",
    "1. initialize N empty guesses\n",
    "2. set a guess for the i-th entry\n",
    "3. clear an incorrect guess for the i-th entry\n"
   ]
  },
  {
   "cell_type": "code",
   "execution_count": 2,
   "metadata": {},
   "outputs": [],
   "source": [
    "import time\n",
    "import numpy as np\n",
    "import matplotlib as plt"
   ]
  },
  {
   "cell_type": "code",
   "execution_count": 3,
   "metadata": {
    "deletable": false,
    "nbgrader": {
     "checksum": "69e5d714c7245702b8732209ea0b2b42",
     "grade": true,
     "grade_id": "cell-d8d2e3c1b136cdb9",
     "locked": false,
     "points": 0,
     "schema_version": 1,
     "solution": true
    }
   },
   "outputs": [],
   "source": [
    "# DAT = Direct Address Table\n",
    "# HT = Hash Table\n",
    "\n",
    "def empty_DAT(N):\n",
    "    return [[] for i in range(N)] # \n",
    "\n",
    "# QUESTION: Do guesses correspond to indices in the array (thus accessing a value) or are they the actual value?\n",
    "def DAT_search(DAT, entry_index, guess_value): \n",
    "    N = len(DAT)\n",
    "    # We insert the guess to the index, regardless of whether it's correct or not:\n",
    "    if DAT[entry_index] == guess_value:\n",
    "        DAT[guess_value.entry_index] = guess_value\n",
    "        return True\n",
    "    else:\n",
    "        DAT[guess_value.entry_index] = guess_value\n",
    "        return False\n",
    "\n",
    "def clear_incorrect_guess(DAT, entry_index, guess_value):\n",
    "    if DAT_search(DAT, entry_index, guess_value) == False:\n",
    "        DAT[guess_value.entry_index] = None"
   ]
  },
  {
   "cell_type": "markdown",
   "metadata": {
    "deletable": false,
    "editable": false,
    "nbgrader": {
     "checksum": "cdb562114e50f9ce1c97be3536b59efa",
     "grade": false,
     "grade_id": "cell-b27891b3ff16f730",
     "locked": true,
     "schema_version": 1,
     "solution": false
    }
   },
   "source": [
    "## Part B. Social Security\n",
    "\n",
    "Could we use a direct address table to store a country's entire set of social security numbers (aka id numbers)? Why or why not?\n"
   ]
  },
  {
   "cell_type": "markdown",
   "metadata": {
    "deletable": false,
    "nbgrader": {
     "checksum": "7b193e66cbea5bd9dac131a3d6adfefa",
     "grade": true,
     "grade_id": "cell-e751647d9af78c11",
     "locked": false,
     "points": 0,
     "schema_version": 1,
     "solution": true
    }
   },
   "source": [
    "No. The \"universe\" of data is too large to be able to access small subsets. "
   ]
  },
  {
   "cell_type": "markdown",
   "metadata": {
    "deletable": false,
    "editable": false,
    "nbgrader": {
     "checksum": "35f74a7f882cabb36df7ee2c43ee51db",
     "grade": false,
     "grade_id": "cell-cba2028918eea1fd",
     "locked": true,
     "schema_version": 1,
     "solution": false
    }
   },
   "source": [
    "## Part C. Chained Hash-table\n",
    "\n",
    "## Question 1.\n",
    "\n",
    "Using the code in the cell below, complete the missing sections of code. You should copy and paste the code in an additional cell and fill in the code there."
   ]
  },
  {
   "cell_type": "code",
   "execution_count": 4,
   "metadata": {
    "deletable": false,
    "editable": false,
    "nbgrader": {
     "checksum": "48a17c00317da5b4474d91c6d8e6b920",
     "grade": false,
     "grade_id": "cell-9e41d88b035338f4",
     "locked": true,
     "schema_version": 1,
     "solution": false
    }
   },
   "outputs": [],
   "source": [
    "import random\n",
    "import string\n",
    "\n",
    "\n",
    "def randomword(length):\n",
    "    return ''.join(random.choice(string.ascii_lowercase) for i in range(length))\n",
    "\n",
    "\n",
    "def empty_hash_table(N):\n",
    "    return [[] for n in range(N)]\n",
    "\n",
    "\n",
    "def add_to_hash_table(hash_table, item, hash_function):\n",
    "    N = len(hash_table)\n",
    "    # Your code here\n",
    "    return hash_table\n",
    "\n",
    "\n",
    "def contains(hash_table, item, hash_function):\n",
    "    N = len(hash_table)\n",
    "    # Your code here\n",
    "    # return true if the item has already been stored in the hash_table\n",
    "\n",
    "\n",
    "def remove(hash_table, item, hash_function):\n",
    "    if not contains(hash_table, item, hash_function):\n",
    "        raise ValueError()\n",
    "    # Your code here\n",
    "    return hash_table\n",
    "\n",
    "\n",
    "def hash_str1(string):\n",
    "    ans = 0\n",
    "    for chr in string:\n",
    "        ans += ord(chr)\n",
    "    return ans\n",
    "\n",
    "# def hash_str2(string):\n",
    "#     ans = 0\n",
    "#     for chr in string:\n",
    "#         ans = ans ^ ord(chr)\n",
    "#     return ans\n",
    "def hash_str2(string):\n",
    "    ans=int(ord(string[0]))\n",
    "    for ix in range(1, len(string)):\n",
    "        ans = ans ^ ord(string[ix])   \n",
    "    return bin(ans)\n",
    "\n",
    "\n",
    "def hash_str3(string):\n",
    "    ans = 0\n",
    "    for chr in string:\n",
    "        ans = ans * 128 + ord(chr)\n",
    "    return ans\n",
    "\n",
    "\n",
    "def hash_str4(string):\n",
    "    random.seed(ord(string[0]))\n",
    "    return random.getrandbits(32)"
   ]
  },
  {
   "cell_type": "code",
   "execution_count": 5,
   "metadata": {
    "deletable": false,
    "nbgrader": {
     "checksum": "b39c1af2de8a4581d16a2d630fcaac74",
     "grade": true,
     "grade_id": "cell-1b6cc6df105c101f",
     "locked": false,
     "points": 0,
     "schema_version": 1,
     "solution": true
    }
   },
   "outputs": [],
   "source": [
    "import random\n",
    "import string\n",
    "\n",
    "\n",
    "def randomword(length):\n",
    "    return ''.join(random.choice(string.ascii_lowercase) for i in range(length))\n",
    "\n",
    "\n",
    "def empty_hash_table(N):\n",
    "    return [[] for n in range(N)]\n",
    "\n",
    "\n",
    "def add_to_hash_table(hash_table, item, hash_function):\n",
    "    N = len(hash_table)\n",
    "    # Your code here\n",
    "    hash_table[hash_function%N].append(item)\n",
    "    return hash_table\n",
    "\n",
    "\n",
    "def contains(hash_table, item, hash_function):\n",
    "    N = len(hash_table)\n",
    "    # Your code here\n",
    "    # return true if the item has already been stored in the hash_table\n",
    "    if item in hash_table[hash_function%N]:\n",
    "        return True\n",
    "\n",
    "\n",
    "def remove(hash_table, item, hash_function):\n",
    "    if not contains(hash_table, item, hash_function):\n",
    "        raise ValueError()\n",
    "    # Your code here\n",
    "    hash_table[hash_function%N].remove(item)\n",
    "    return hash_table\n",
    "\n",
    "# Codes the key based on the sum of the Unicode code points of each character in the \"word\"\n",
    "def hash_str1(string):\n",
    "    ans = 0\n",
    "    for chr in string:\n",
    "        ans += ord(chr)\n",
    "    return ans\n",
    "\n",
    "def hash_str2(string):\n",
    "    ans = 0\n",
    "    for chr in string:\n",
    "        ans = ans ^ ord(chr)\n",
    "    return ans\n",
    "\n",
    "# The code below wasn't working so I commented it an uncommented the one above:\n",
    "\"\"\"\n",
    "def hash_str2(string):\n",
    "    ans=int(ord(string[0]))\n",
    "    for ix in range(1, len(string)):\n",
    "        ans = ans ^ ord(string[ix])   \n",
    "    return bin(ans)\n",
    "\n",
    "\"\"\"\n",
    "\n",
    "\n",
    "def hash_str3(string):\n",
    "    ans = 0\n",
    "    for chr in string:\n",
    "        ans = ans * 128 + ord(chr)\n",
    "    return ans\n",
    "\n",
    "\n",
    "def hash_str4(string):\n",
    "    random.seed(ord(string[0]))\n",
    "    return random.getrandbits(32)"
   ]
  },
  {
   "cell_type": "markdown",
   "metadata": {
    "deletable": false,
    "editable": false,
    "nbgrader": {
     "checksum": "d323c68243f6d1fe79cbf5ad01ee85ae",
     "grade": false,
     "grade_id": "cell-66fb150dd2e509a7",
     "locked": true,
     "schema_version": 1,
     "solution": false
    }
   },
   "source": [
    "## Question 2.\n",
    "Using the code, create 100,000 words of 10 characters each.\n"
   ]
  },
  {
   "cell_type": "code",
   "execution_count": 6,
   "metadata": {
    "deletable": false,
    "nbgrader": {
     "checksum": "b9d2f1faad23eecd6f3691968bb4e455",
     "grade": true,
     "grade_id": "cell-234b1e83c871ddc7",
     "locked": false,
     "points": 0,
     "schema_version": 1,
     "solution": true
    }
   },
   "outputs": [
    {
     "data": {
      "text/plain": [
       "['tsmpquikuj',\n",
       " 'uwoigilahb',\n",
       " 'cawugldwif',\n",
       " 'unencguqdc',\n",
       " 'rpgfmlxzad',\n",
       " 'zsjwhrakls',\n",
       " 'gbcsbgkskk',\n",
       " 'smnynbbdnk',\n",
       " 'okxqzocrhd',\n",
       " 'xrrntpeqhx']"
      ]
     },
     "execution_count": 6,
     "metadata": {},
     "output_type": "execute_result"
    }
   ],
   "source": [
    "num_words = 100000\n",
    "num_chars = 10\n",
    "list_of_words = []\n",
    "\n",
    "for i in range(num_words):\n",
    "    list_of_words.append(randomword(num_chars))\n",
    "\n",
    "# Check this works:\n",
    "list_of_words[:10]"
   ]
  },
  {
   "cell_type": "markdown",
   "metadata": {
    "deletable": false,
    "editable": false,
    "nbgrader": {
     "checksum": "190e7fdc00fc311f5ff32a390fff1ca4",
     "grade": false,
     "grade_id": "cell-2fbadca52cec7230",
     "locked": true,
     "schema_version": 1,
     "solution": false
    }
   },
   "source": [
    "## Question 3.\n",
    "\n",
    "Create four chained hash-tables with 5000 slots."
   ]
  },
  {
   "cell_type": "markdown",
   "metadata": {},
   "source": [
    "# Note to instructor:\n",
    "\n",
    "I'm not whether sure I understand the instructions correctly, but my understanding is that we are to create four hash tables with 5000 slots – i.e. EACH ONE USING A DIFFERENT HASH FUNCTION. I also don't know whether the question wants me to use the same wordlist from Question 1 or generate a new wordlist each time. \n",
    "\n",
    "I have therefore split my function into two versions:  one that uses the wordlist from Q1 (immediate codebox below) and one that generates a new wordlist each time."
   ]
  },
  {
   "cell_type": "code",
   "execution_count": 9,
   "metadata": {
    "deletable": false,
    "nbgrader": {
     "checksum": "0d1473300ae336ceb57d11687ab3ec0a",
     "grade": true,
     "grade_id": "cell-2dabefc41493ec16",
     "locked": false,
     "points": 0,
     "schema_version": 1,
     "solution": true
    }
   },
   "outputs": [],
   "source": [
    "#################################\n",
    "### WORD LIST FROM QUESTION 1 ###\n",
    "#################################\n",
    "\n",
    "# NOTE: I did not have time to fix indexing errors before class...\n",
    "\n",
    "# Question 4: Store all the words in each chained hash table using each of the different hash functions.\n",
    "def unique_function(N, num_words, num_chars, which_hash_function):\n",
    "    global list_of_words\n",
    "    hash_table = empty_hash_table(N)\n",
    "\n",
    "    for item in list_of_words:\n",
    "        add_to_hash_table(hash_table, item, which_hash_function(item))\n",
    "\n",
    "    return hash_table\n",
    "\n",
    "def words(N, num_words, num_chars, which_hash_function):\n",
    "    \n",
    "    # Call on the function that will generate a hash table according to the has function of choice:\n",
    "    \n",
    "    hash_table = unique_function(N, num_words, num_chars, which_hash_function)[0]\n",
    "    wordlist = list_of_words\n",
    "    \n",
    "    # Question 5: Measure the number of collisions for each hash function:\n",
    "    collisions = 0\n",
    "    for i in range(N):\n",
    "        # If length of the slot > 1, it contains a linked list i.e. collisions:\n",
    "        if len(hash_table[i]) > 1:\n",
    "            # Count the number of items in that linked list; subtract 1 because 2 items = 1 collision\n",
    "            collisions += len(hash_table[i]) - 1\n",
    "\n",
    "    # Question 6: How many elements are in a bucket on average?       \n",
    "    buckets = 0\n",
    "    for i in range(N):\n",
    "        if len(hash_table[i]) > 0:\n",
    "            buckets += 1\n",
    "\n",
    "    bucket_size = num_words / buckets\n",
    "\n",
    "    # Question 7: How long does it take to find elements that are in each hash table?\n",
    "    start = time.time()\n",
    "    found = 0\n",
    "    not_found = 0\n",
    "\n",
    "    for item in wordlist:\n",
    "        if contains(hash_table, item, which_hash_function(item)):\n",
    "            found += 1\n",
    "        else:\n",
    "            not_found += 1\n",
    "\n",
    "    end = time.time()\n",
    "\n",
    "    duration = end - start\n",
    "\n",
    "    # not stored\n",
    "    \"\"\"\n",
    "    start2 = time.time()\n",
    "    not_in = []\n",
    "    while len(not_in) < 10000:\n",
    "        item = randomword(length)\n",
    "        if contains(hash_table, item, hash_str1(item)) != True:\n",
    "            not_in.append(item)\n",
    "\n",
    "    end2 = time.time()\n",
    "    duration2 = end2 - start2\n",
    "    \"\"\"\n",
    "\n",
    "    return \"Number of collisions:\", collisions, \"Average bucket size:\", bucket_size, \"Duration to find elements\", duration, \"finding not stored time\", duration\n",
    "\n",
    "# I'm not sure I understand the instructions correctly, but my understanding is that we are to create \n",
    "# 4 hash tables with 5000 slot – EACH ONE USING A DIFFERENT HASH FUNCTION.\n",
    "# I also don't know whether the question wants me to use the same wordlist from Question 1 or \n",
    "# generate a new wordlist each time. Note that my function above generates a new wordlist each time"
   ]
  },
  {
   "cell_type": "code",
   "execution_count": 16,
   "metadata": {},
   "outputs": [
    {
     "name": "stdout",
     "output_type": "stream",
     "text": [
      "('Number of collisions:', 90, 'Average bucket size:', 10000.0, 'Duration to find elements', 0.1562509536743164, 'finding not stored time', 0.1562509536743164)\n",
      "('Number of collisions:', 90, 'Average bucket size:', 10000.0, 'Duration to find elements', 0.15456295013427734, 'finding not stored time', 0.15456295013427734)\n",
      "('Number of collisions:', 90, 'Average bucket size:', 10000.0, 'Duration to find elements', 0.1679830551147461, 'finding not stored time', 0.1679830551147461)\n",
      "('Number of collisions:', 90, 'Average bucket size:', 10000.0, 'Duration to find elements', 0.7754769325256348, 'finding not stored time', 0.7754769325256348)\n"
     ]
    }
   ],
   "source": [
    "# It appears my function only works if number of slots = number of characters. Did not have time to bug-check...\n",
    "\n",
    "print(words(10, 100000, 10, hash_str1))\n",
    "print(words(10, 100000, 10, hash_str2))\n",
    "print(words(10, 100000, 10, hash_str3))\n",
    "print(words(10, 100000, 10, hash_str4))"
   ]
  },
  {
   "cell_type": "code",
   "execution_count": 10,
   "metadata": {},
   "outputs": [
    {
     "ename": "IndexError",
     "evalue": "list index out of range",
     "output_type": "error",
     "traceback": [
      "\u001b[0;31m---------------------------------------------------------------------------\u001b[0m",
      "\u001b[0;31mIndexError\u001b[0m                                Traceback (most recent call last)",
      "\u001b[0;32m<ipython-input-10-fa3f31ef2e41>\u001b[0m in \u001b[0;36m<module>\u001b[0;34m\u001b[0m\n\u001b[0;32m----> 1\u001b[0;31m \u001b[0mwords\u001b[0m\u001b[0;34m(\u001b[0m\u001b[0;36m5000\u001b[0m\u001b[0;34m,\u001b[0m \u001b[0;36m100000\u001b[0m\u001b[0;34m,\u001b[0m \u001b[0;36m10\u001b[0m\u001b[0;34m,\u001b[0m \u001b[0mhash_str1\u001b[0m\u001b[0;34m)\u001b[0m\u001b[0;34m\u001b[0m\u001b[0;34m\u001b[0m\u001b[0m\n\u001b[0m\u001b[1;32m      2\u001b[0m \u001b[0mwords\u001b[0m\u001b[0;34m(\u001b[0m\u001b[0;36m5000\u001b[0m\u001b[0;34m,\u001b[0m \u001b[0;36m100000\u001b[0m\u001b[0;34m,\u001b[0m \u001b[0;36m10\u001b[0m\u001b[0;34m,\u001b[0m \u001b[0mhash_str2\u001b[0m\u001b[0;34m)\u001b[0m\u001b[0;34m\u001b[0m\u001b[0;34m\u001b[0m\u001b[0m\n\u001b[1;32m      3\u001b[0m \u001b[0mwords\u001b[0m\u001b[0;34m(\u001b[0m\u001b[0;36m5000\u001b[0m\u001b[0;34m,\u001b[0m \u001b[0;36m100000\u001b[0m\u001b[0;34m,\u001b[0m \u001b[0;36m10\u001b[0m\u001b[0;34m,\u001b[0m \u001b[0mhash_str3\u001b[0m\u001b[0;34m)\u001b[0m\u001b[0;34m\u001b[0m\u001b[0;34m\u001b[0m\u001b[0m\n\u001b[1;32m      4\u001b[0m \u001b[0mwords\u001b[0m\u001b[0;34m(\u001b[0m\u001b[0;36m5000\u001b[0m\u001b[0;34m,\u001b[0m \u001b[0;36m100000\u001b[0m\u001b[0;34m,\u001b[0m \u001b[0;36m10\u001b[0m\u001b[0;34m,\u001b[0m \u001b[0mhash_str4\u001b[0m\u001b[0;34m)\u001b[0m\u001b[0;34m\u001b[0m\u001b[0;34m\u001b[0m\u001b[0m\n",
      "\u001b[0;32m<ipython-input-9-825d60967fc9>\u001b[0m in \u001b[0;36mwords\u001b[0;34m(N, num_words, num_chars, which_hash_function)\u001b[0m\n\u001b[1;32m     26\u001b[0m     \u001b[0;32mfor\u001b[0m \u001b[0mi\u001b[0m \u001b[0;32min\u001b[0m \u001b[0mrange\u001b[0m\u001b[0;34m(\u001b[0m\u001b[0mN\u001b[0m\u001b[0;34m)\u001b[0m\u001b[0;34m:\u001b[0m\u001b[0;34m\u001b[0m\u001b[0;34m\u001b[0m\u001b[0m\n\u001b[1;32m     27\u001b[0m         \u001b[0;31m# If length of the slot > 1, it contains a linked list i.e. collisions:\u001b[0m\u001b[0;34m\u001b[0m\u001b[0;34m\u001b[0m\u001b[0;34m\u001b[0m\u001b[0m\n\u001b[0;32m---> 28\u001b[0;31m         \u001b[0;32mif\u001b[0m \u001b[0mlen\u001b[0m\u001b[0;34m(\u001b[0m\u001b[0mhash_table\u001b[0m\u001b[0;34m[\u001b[0m\u001b[0mi\u001b[0m\u001b[0;34m]\u001b[0m\u001b[0;34m)\u001b[0m \u001b[0;34m>\u001b[0m \u001b[0;36m1\u001b[0m\u001b[0;34m:\u001b[0m\u001b[0;34m\u001b[0m\u001b[0;34m\u001b[0m\u001b[0m\n\u001b[0m\u001b[1;32m     29\u001b[0m             \u001b[0;31m# Count the number of items in that linked list; subtract 1 because 2 items = 1 collision\u001b[0m\u001b[0;34m\u001b[0m\u001b[0;34m\u001b[0m\u001b[0;34m\u001b[0m\u001b[0m\n\u001b[1;32m     30\u001b[0m             \u001b[0mcollisions\u001b[0m \u001b[0;34m+=\u001b[0m \u001b[0mlen\u001b[0m\u001b[0;34m(\u001b[0m\u001b[0mhash_table\u001b[0m\u001b[0;34m[\u001b[0m\u001b[0mi\u001b[0m\u001b[0;34m]\u001b[0m\u001b[0;34m)\u001b[0m \u001b[0;34m-\u001b[0m \u001b[0;36m1\u001b[0m\u001b[0;34m\u001b[0m\u001b[0;34m\u001b[0m\u001b[0m\n",
      "\u001b[0;31mIndexError\u001b[0m: list index out of range"
     ]
    }
   ],
   "source": [
    "words(5000, 100000, 10, hash_str1)\n",
    "words(5000, 100000, 10, hash_str2)\n",
    "words(5000, 100000, 10, hash_str3)\n",
    "words(5000, 100000, 10, hash_str4)"
   ]
  },
  {
   "cell_type": "code",
   "execution_count": null,
   "metadata": {},
   "outputs": [],
   "source": [
    "#########################################\n",
    "### GENERATE A NEW WORDLIST EACH TIME ###\n",
    "#########################################\n",
    "\n",
    "# Question 4: Store all the words in each chained hash table using each of the different hash functions.\n",
    "def unique_function(N, num_words, num_chars, which_hash_function):\n",
    "    hash_table = empty_hash_table(N)\n",
    "    wordlist = []\n",
    "\n",
    "    for i in range(num_words):\n",
    "        wordlist.append(randomword(num_chars))\n",
    "\n",
    "    for item in wordlist:\n",
    "        add_to_hash_table(hash_table, item, which_hash_function(item))\n",
    "\n",
    "    return hash_table, wordlist\n",
    "\n",
    "def words(N, num_words, num_chars, which_hash_function):\n",
    "    \n",
    "    # Call on the function that will generate a hash table according to the has function of choice:\n",
    "    \n",
    "    hash_table = unique_function(N, num_words, num_chars, which_hash_function)[0]\n",
    "    wordlist = unique_function(N, num_words, num_chars, which_hash_function)[1]\n",
    "    \n",
    "    # Question 5: Measure the number of collisions for each hash function:\n",
    "    collisions = 0\n",
    "    for i in range(N):\n",
    "        # If length of the slot > 1, it contains a linked list i.e. collisions:\n",
    "        if len(hash_table[i]) > 1:\n",
    "            # Count the number of items in that linked list; subtract 1 because 2 items = 1 collision\n",
    "            collisions += len(hash_table[i]) - 1\n",
    "\n",
    "    # Question 6: How many elements are in a bucket on average?       \n",
    "    buckets = 0\n",
    "    for i in range(N):\n",
    "        if len(hash_table[i]) > 0:\n",
    "            buckets += 1\n",
    "\n",
    "    bucket_size = num_words / buckets\n",
    "\n",
    "    # Question 7: How long does it take to find elements that are in each hash table?\n",
    "    start = time.time()\n",
    "    found = 0\n",
    "    not_found = 0\n",
    "\n",
    "    for item in wordlist:\n",
    "        if contains(hash_table, item, which_hash_function(item)):\n",
    "            found += 1\n",
    "        else:\n",
    "            not_found += 1\n",
    "\n",
    "    end = time.time()\n",
    "\n",
    "    duration = end - start\n",
    "\n",
    "    # not stored\n",
    "    \"\"\"\n",
    "    start2 = time.time()\n",
    "    not_in = []\n",
    "    while len(not_in) < 10000:\n",
    "        item = randomword(length)\n",
    "        if contains(hash_table, item, hash_str1(item)) != True:\n",
    "            not_in.append(item)\n",
    "\n",
    "    end2 = time.time()\n",
    "    duration2 = end2 - start2\n",
    "    \"\"\"\n",
    "\n",
    "    return \"Number of collisions:\", collisions, \"Average bucket size:\", bucket_size, \"Duration to find elements\", duration, \"finding not stored time\", duration\n",
    "\n",
    "# I'm not sure I understand the instructions correctly, but my understanding is that we are to create \n",
    "# 4 hash tables with 5000 slot – EACH ONE USING A DIFFERENT HASH FUNCTION.\n",
    "# I also don't know whether the question wants me to use the same wordlist from Question 1 or \n",
    "# generate a new wordlist each time. Note that my function above generates a new wordlist each time."
   ]
  },
  {
   "cell_type": "markdown",
   "metadata": {
    "deletable": false,
    "editable": false,
    "nbgrader": {
     "checksum": "c3d147917ae237a6dc75eddab48dbaa6",
     "grade": false,
     "grade_id": "cell-cc2e6d00330e691e",
     "locked": true,
     "schema_version": 1,
     "solution": false
    }
   },
   "source": [
    "## Question 4.\n",
    "\n",
    "Store all the words in each chained hash table using each of the different hash functions."
   ]
  },
  {
   "cell_type": "code",
   "execution_count": 13,
   "metadata": {},
   "outputs": [
    {
     "data": {
      "text/plain": [
       "('Number of collisions:',\n",
       " 90,\n",
       " 'Average bucket size:',\n",
       " 10000.0,\n",
       " 'Duration to find elements',\n",
       " 0.12495803833007812,\n",
       " 'finding not stored time',\n",
       " 0.12495803833007812)"
      ]
     },
     "execution_count": 13,
     "metadata": {},
     "output_type": "execute_result"
    }
   ],
   "source": [
    "# It appears my function only works if number of slots = number of characters. Did not have time to bug-check...\n",
    "\n",
    "words(10, 100000, 10, hash_str1)"
   ]
  },
  {
   "cell_type": "code",
   "execution_count": 11,
   "metadata": {
    "deletable": false,
    "nbgrader": {
     "checksum": "af209dceb17bf5f8d9fadf0808855f79",
     "grade": true,
     "grade_id": "cell-8a08ade8d45590a7",
     "locked": false,
     "points": 0,
     "schema_version": 1,
     "solution": true
    }
   },
   "outputs": [
    {
     "ename": "IndexError",
     "evalue": "list index out of range",
     "output_type": "error",
     "traceback": [
      "\u001b[0;31m---------------------------------------------------------------------------\u001b[0m",
      "\u001b[0;31mIndexError\u001b[0m                                Traceback (most recent call last)",
      "\u001b[0;32m<ipython-input-11-fa3f31ef2e41>\u001b[0m in \u001b[0;36m<module>\u001b[0;34m\u001b[0m\n\u001b[0;32m----> 1\u001b[0;31m \u001b[0mwords\u001b[0m\u001b[0;34m(\u001b[0m\u001b[0;36m5000\u001b[0m\u001b[0;34m,\u001b[0m \u001b[0;36m100000\u001b[0m\u001b[0;34m,\u001b[0m \u001b[0;36m10\u001b[0m\u001b[0;34m,\u001b[0m \u001b[0mhash_str1\u001b[0m\u001b[0;34m)\u001b[0m\u001b[0;34m\u001b[0m\u001b[0;34m\u001b[0m\u001b[0m\n\u001b[0m\u001b[1;32m      2\u001b[0m \u001b[0mwords\u001b[0m\u001b[0;34m(\u001b[0m\u001b[0;36m5000\u001b[0m\u001b[0;34m,\u001b[0m \u001b[0;36m100000\u001b[0m\u001b[0;34m,\u001b[0m \u001b[0;36m10\u001b[0m\u001b[0;34m,\u001b[0m \u001b[0mhash_str2\u001b[0m\u001b[0;34m)\u001b[0m\u001b[0;34m\u001b[0m\u001b[0;34m\u001b[0m\u001b[0m\n\u001b[1;32m      3\u001b[0m \u001b[0mwords\u001b[0m\u001b[0;34m(\u001b[0m\u001b[0;36m5000\u001b[0m\u001b[0;34m,\u001b[0m \u001b[0;36m100000\u001b[0m\u001b[0;34m,\u001b[0m \u001b[0;36m10\u001b[0m\u001b[0;34m,\u001b[0m \u001b[0mhash_str3\u001b[0m\u001b[0;34m)\u001b[0m\u001b[0;34m\u001b[0m\u001b[0;34m\u001b[0m\u001b[0m\n\u001b[1;32m      4\u001b[0m \u001b[0mwords\u001b[0m\u001b[0;34m(\u001b[0m\u001b[0;36m5000\u001b[0m\u001b[0;34m,\u001b[0m \u001b[0;36m100000\u001b[0m\u001b[0;34m,\u001b[0m \u001b[0;36m10\u001b[0m\u001b[0;34m,\u001b[0m \u001b[0mhash_str4\u001b[0m\u001b[0;34m)\u001b[0m\u001b[0;34m\u001b[0m\u001b[0;34m\u001b[0m\u001b[0m\n",
      "\u001b[0;32m<ipython-input-9-825d60967fc9>\u001b[0m in \u001b[0;36mwords\u001b[0;34m(N, num_words, num_chars, which_hash_function)\u001b[0m\n\u001b[1;32m     26\u001b[0m     \u001b[0;32mfor\u001b[0m \u001b[0mi\u001b[0m \u001b[0;32min\u001b[0m \u001b[0mrange\u001b[0m\u001b[0;34m(\u001b[0m\u001b[0mN\u001b[0m\u001b[0;34m)\u001b[0m\u001b[0;34m:\u001b[0m\u001b[0;34m\u001b[0m\u001b[0;34m\u001b[0m\u001b[0m\n\u001b[1;32m     27\u001b[0m         \u001b[0;31m# If length of the slot > 1, it contains a linked list i.e. collisions:\u001b[0m\u001b[0;34m\u001b[0m\u001b[0;34m\u001b[0m\u001b[0;34m\u001b[0m\u001b[0m\n\u001b[0;32m---> 28\u001b[0;31m         \u001b[0;32mif\u001b[0m \u001b[0mlen\u001b[0m\u001b[0;34m(\u001b[0m\u001b[0mhash_table\u001b[0m\u001b[0;34m[\u001b[0m\u001b[0mi\u001b[0m\u001b[0;34m]\u001b[0m\u001b[0;34m)\u001b[0m \u001b[0;34m>\u001b[0m \u001b[0;36m1\u001b[0m\u001b[0;34m:\u001b[0m\u001b[0;34m\u001b[0m\u001b[0;34m\u001b[0m\u001b[0m\n\u001b[0m\u001b[1;32m     29\u001b[0m             \u001b[0;31m# Count the number of items in that linked list; subtract 1 because 2 items = 1 collision\u001b[0m\u001b[0;34m\u001b[0m\u001b[0;34m\u001b[0m\u001b[0;34m\u001b[0m\u001b[0m\n\u001b[1;32m     30\u001b[0m             \u001b[0mcollisions\u001b[0m \u001b[0;34m+=\u001b[0m \u001b[0mlen\u001b[0m\u001b[0;34m(\u001b[0m\u001b[0mhash_table\u001b[0m\u001b[0;34m[\u001b[0m\u001b[0mi\u001b[0m\u001b[0;34m]\u001b[0m\u001b[0;34m)\u001b[0m \u001b[0;34m-\u001b[0m \u001b[0;36m1\u001b[0m\u001b[0;34m\u001b[0m\u001b[0;34m\u001b[0m\u001b[0m\n",
      "\u001b[0;31mIndexError\u001b[0m: list index out of range"
     ]
    }
   ],
   "source": [
    "words(5000, 100000, 10, hash_str1)\n",
    "words(5000, 100000, 10, hash_str2)\n",
    "words(5000, 100000, 10, hash_str3)\n",
    "words(5000, 100000, 10, hash_str4)"
   ]
  },
  {
   "cell_type": "markdown",
   "metadata": {
    "deletable": false,
    "editable": false,
    "nbgrader": {
     "checksum": "858437d142a66b825fb0bebdb1c4d9fe",
     "grade": false,
     "grade_id": "cell-da2c8b42618fbde4",
     "locked": true,
     "schema_version": 1,
     "solution": false
    }
   },
   "source": [
    "## Question 5.\n",
    "\n",
    "Measure the number of collisions for each hash function."
   ]
  },
  {
   "cell_type": "code",
   "execution_count": null,
   "metadata": {
    "deletable": false,
    "nbgrader": {
     "checksum": "156f57bc1c6c1a3e10ca1804aa205099",
     "grade": true,
     "grade_id": "cell-a968f9e14a0416c4",
     "locked": false,
     "points": 0,
     "schema_version": 1,
     "solution": true
    }
   },
   "outputs": [],
   "source": [
    "# YOUR CODE HERE\n",
    "raise NotImplementedError()"
   ]
  },
  {
   "cell_type": "markdown",
   "metadata": {
    "deletable": false,
    "editable": false,
    "nbgrader": {
     "checksum": "ef47cabb10897284ca375490003e6b3d",
     "grade": false,
     "grade_id": "cell-435ba1cfb2d80447",
     "locked": true,
     "schema_version": 1,
     "solution": false
    }
   },
   "source": [
    "## Question 6.\n",
    "\n",
    "For each of the hash functions, how many elements are in a bucket on average (if it is not empty)?\n"
   ]
  },
  {
   "cell_type": "code",
   "execution_count": null,
   "metadata": {
    "deletable": false,
    "nbgrader": {
     "checksum": "9f77d346c6e5ffbfb92ac0707c3c1d72",
     "grade": true,
     "grade_id": "cell-b4052afa2ee7c702",
     "locked": false,
     "points": 0,
     "schema_version": 1,
     "solution": true
    }
   },
   "outputs": [],
   "source": [
    "# YOUR CODE HERE\n",
    "raise NotImplementedError()"
   ]
  },
  {
   "cell_type": "markdown",
   "metadata": {
    "deletable": false,
    "editable": false,
    "nbgrader": {
     "checksum": "aaeb9bd55b7a86f8bc8079cbb7f8bca4",
     "grade": false,
     "grade_id": "cell-b86aef4dd22c236c",
     "locked": true,
     "schema_version": 1,
     "solution": false
    }
   },
   "source": [
    "## Question 7.\n",
    "\n",
    "Time how long it takes to find elements that are in each hash table.\n"
   ]
  },
  {
   "cell_type": "code",
   "execution_count": null,
   "metadata": {
    "deletable": false,
    "nbgrader": {
     "checksum": "23927c46b8067f49ef10e9b4183f7680",
     "grade": true,
     "grade_id": "cell-0605f7dec7128414",
     "locked": false,
     "points": 0,
     "schema_version": 1,
     "solution": true
    }
   },
   "outputs": [],
   "source": [
    "# YOUR CODE HERE\n",
    "raise NotImplementedError()"
   ]
  },
  {
   "cell_type": "markdown",
   "metadata": {
    "deletable": false,
    "editable": false,
    "nbgrader": {
     "checksum": "b051093ca9a2faf1658679380bf29033",
     "grade": false,
     "grade_id": "cell-75db2c2e62cec090",
     "locked": true,
     "schema_version": 1,
     "solution": false
    }
   },
   "source": [
    "## Question 8.\n",
    "For each hash table, time how long it takes to find 10,000 elements that have not been stored."
   ]
  },
  {
   "cell_type": "code",
   "execution_count": null,
   "metadata": {
    "deletable": false,
    "nbgrader": {
     "checksum": "99b2fa8c88000c2143cb00fac1f6aa5f",
     "grade": true,
     "grade_id": "cell-b846b45e1b98ae59",
     "locked": false,
     "points": 0,
     "schema_version": 1,
     "solution": true
    }
   },
   "outputs": [],
   "source": [
    "# INCOMPLETE\n",
    "\n",
    "# YOUR CODE HERE\n",
    "raise NotImplementedError()"
   ]
  }
 ],
 "metadata": {
  "kernelspec": {
   "display_name": "Python 3",
   "language": "python",
   "name": "python3"
  },
  "language_info": {
   "codemirror_mode": {
    "name": "ipython",
    "version": 3
   },
   "file_extension": ".py",
   "mimetype": "text/x-python",
   "name": "python",
   "nbconvert_exporter": "python",
   "pygments_lexer": "ipython3",
   "version": "3.7.4"
  }
 },
 "nbformat": 4,
 "nbformat_minor": 2
}
